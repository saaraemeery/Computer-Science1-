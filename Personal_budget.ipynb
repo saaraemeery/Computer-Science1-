{
  "cells": [
    {
      "cell_type": "code",
      "source": [
        "# Data structures to store income and expenses\n",
        "income_entries = {} # the {} are the empty dictionaries in Phyton, they store key-valu pairs\n",
        "expense_entries = {} # so right now there are no entries yet"
      ],
      "metadata": {
        "id": "b629yATJaJe7"
      },
      "execution_count": null,
      "outputs": []
    },
    {
      "cell_type": "code",
      "source": [
        "# add income\n",
        "def add_income(): # we use 'def' to define a function\n",
        "# we ask the user to a description for the expense\n",
        "  description = input(\"Enter income description:\")\n",
        "  # again we ask the user to put the description to enter the amount of income\n",
        "  amount = float(input(\"Enter income amount:\"))\n",
        "  # we store the income entry in the dictionary with description as key and amount value\n",
        "  income_entries[description] = amount\n",
        "  # then we print the confirmation message\n",
        "  print(f\"Income '{description}' of ${amount:2f} added.\")"
      ],
      "metadata": {
        "id": "n4TV-a1pc_ZW"
      },
      "execution_count": null,
      "outputs": []
    },
    {
      "cell_type": "code",
      "source": [
        "# Add expense\n",
        "def add_expense():\n",
        "  # we ask user o input a description for the expense\n",
        "  description = input(\"Enter expense description:\")\n",
        "  # ask user to input the expense amount and convert it to float\n",
        "  amount = float(input(\"Enter expense amount:\"))\n",
        "  # we ask the user to input the category for the expense\n",
        "  category = input(\"Enter expense category:\")\n",
        "  # we store the expense expense entry in the dictionary with description as key and a dictionary of amount and category as value\n",
        "  expense_entries[description] = {\"amount\": amount, \"category\": category}\n",
        "  # Print confirmation message\n",
        "  print(f\"Expense '{description}' of ${amount:2f} in category '{category}.added.\")"
      ],
      "metadata": {
        "id": "h6QrvHg6d6gt"
      },
      "execution_count": null,
      "outputs": []
    },
    {
      "cell_type": "code",
      "source": [
        "# View Budget summary\n",
        "def view_budget_summary():\n",
        "  # we calculate the total income by summing all values in the income_entries dictionary\n",
        "  total_income = sum(income_entries.values())\n",
        "  # we calculate again the expenses by summing all \"amount\" values in the expense_entries dictionary\n",
        "  total_expenses = sum(item[\"amount\"] for item in expense_entries.values())\n",
        "  # calcualting the balance\n",
        "  balance = total_income - total_expenses\n",
        "  print(\"\\n--- Budget Summary ---\")\n",
        "# View Budget summary\n",
        "def view_budget_summary():\n",
        "  total_income = sum(income_entries.values())\n",
        "  total_expenses = sum(item[\"amount\"] for item in expense_entries.values())\n",
        "  balance = total_income - total_expenses\n",
        "  print(\"\\n--- Budget Summary ---\")\n",
        "  print(f\"Total Income: ${total_income:.2f}\")\n",
        "  print(f\"Total Expenses: ${total_expenses:.2f}\")\n",
        "  print(f\"Balance: ${balance:.2f}\\n\")\n",
        "\n"
      ],
      "metadata": {
        "id": "TgHtrH-bfRh2"
      },
      "execution_count": null,
      "outputs": []
    },
    {
      "cell_type": "code",
      "source": [
        "# Delete an entry\n",
        "def delete_entry():\n",
        "  # user specifies if they want to delete an income or an expense\n",
        "  entry_type = input(\"Enter 'income' or 'expense' to delete: \").lower()\n",
        "  description = input(\"Enter the description of the entry to delete: \")\n",
        "  if entry_type == \"income\":\n",
        "    if description in income_entries:\n",
        "      del income_entries[description]\n",
        "      print(f\"Income '{description}' deleted.\")\n",
        "    else:\n",
        "      print(f\"Income entry not found.\")\n",
        "  elif entry_type == \"expense\":\n",
        "    if description in expense_entries:\n",
        "      del expense_entries[description]\n",
        "      print(f\"Expense '{description} deleted.\")\n",
        "    else:\n",
        "      print(f\"Expense entry not found.\")\n",
        "  else: print(\"Invalid entry type.\")\n"
      ],
      "metadata": {
        "id": "p1AfILFUgx9d"
      },
      "execution_count": null,
      "outputs": []
    },
    {
      "cell_type": "code",
      "source": [
        "# Modify an entry\n",
        "def modify_entry():\n",
        "  entry_type = input(\"Enter 'income' or 'expense' to modify:\").lower()\n",
        "  description = input(\"Enter the description of the entry to modify:\")\n",
        "\n",
        "  if entry_type == \"income\":\n",
        "    if description in income_entries:\n",
        "      new_description = input(\"Enter new description:\")\n",
        "      new_amount = float(input(\"Enter new amount:\"))\n",
        "      del income_entries[description]\n",
        "      income_entries[new_description] = new_amount\n",
        "      print(\"Income entry updated\")\n",
        "    else:\n",
        "      print(\"Income entry not found.\")\n",
        "  elif entry_type == \"expense\":\n",
        "    if description in expense_entries:\n",
        "      new_description = input(\"Enter new description:\")\n",
        "      new_amount = float(input(\"Enter new amount:\"))\n",
        "      new_category = input(\"Enter new category:\")\n",
        "      del expense_entries[description]\n",
        "      expense_entries[new_description] = {\"amount\": new_amount, \"category\": new_category}\n",
        "      print(\"Expense entry updated.\")\n",
        "    else:\n",
        "      print(\"Expense entry not found.\")\n",
        "  else:\n",
        "    print(\"Invalid entry type\")"
      ],
      "metadata": {
        "id": "36L7GTIgi0u-"
      },
      "execution_count": null,
      "outputs": []
    },
    {
      "cell_type": "code",
      "source": [
        "# List all entries\n",
        "def list_entries():\n",
        "  if not income_entries and not expense_entries:\n",
        "    print(\"No entries found.\")\n",
        "    return\n",
        "\n",
        "  print(\"\\n--- Income Entries ---\")\n",
        "  for description, amount in income_entries.items():\n",
        "    print(f\"{description}: ${amount:.2f}\")\n",
        "\n",
        "  print(\"\\n--- Expense Entries ---\")\n",
        "  for description, details in expense_entries.items():\n",
        "    print(f\"{description}: ${details['amount']:.2f} (Category: {details['category']})\")\n",
        "    print()"
      ],
      "metadata": {
        "id": "rA_pwrsul7UQ"
      },
      "execution_count": null,
      "outputs": []
    },
    {
      "cell_type": "code",
      "source": [
        "# Main function\n",
        "def main(): # we define the main function\n",
        "\n",
        "  while True:\n",
        "    print(\"1. Add Income\")\n",
        "    print(\"2. Add Expense\")\n",
        "    print(\"3. View Budget Summary\")\n",
        "    print(\"4. Delete Entry\")\n",
        "    print(\"5. Modify Entry\")\n",
        "    print(\"6. List Entries\")\n",
        "    print(\"7. Exit\")\n",
        "    choice = input(\"Enter your choice:\")\n",
        "\n",
        "\n",
        "    if choice == \"1\":\n",
        "      add_income()\n",
        "    elif choice == \"2\":\n",
        "      add_expense()\n",
        "    elif choice == \"3\":\n",
        "      view_budget_summary()\n",
        "    elif choice == \"4\":\n",
        "      delete_entry()\n",
        "    elif choice == \"5\":\n",
        "      modify_entry()\n",
        "    elif choice == \"6\":\n",
        "      list_entries()\n",
        "    elif choice == \"7\":\n",
        "      print(\"Existing Program.\")\n",
        "      break\n",
        "    else:\n",
        "      print(\"Invalid choice. Please try again\")"
      ],
      "metadata": {
        "id": "RHv-OgtQnZ3B"
      },
      "execution_count": null,
      "outputs": []
    },
    {
      "cell_type": "code",
      "source": [
        "# Test program by running main\n",
        "def main():\n",
        "  pass"
      ],
      "metadata": {
        "id": "EktN897rpHqa"
      },
      "execution_count": null,
      "outputs": []
    }
  ],
  "metadata": {
    "colab": {
      "provenance": []
    },
    "kernelspec": {
      "display_name": "Python 3",
      "name": "python3"
    }
  },
  "nbformat": 4,
  "nbformat_minor": 0
}