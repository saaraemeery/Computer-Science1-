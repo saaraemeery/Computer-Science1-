{
  "nbformat": 4,
  "nbformat_minor": 0,
  "metadata": {
    "colab": {
      "provenance": []
    },
    "kernelspec": {
      "name": "python3",
      "display_name": "Python 3"
    },
    "language_info": {
      "name": "python"
    }
  },
  "cells": [
    {
      "cell_type": "code",
      "execution_count": null,
      "metadata": {
        "id": "IBKfcbxI5tuN",
        "colab": {
          "base_uri": "https://localhost:8080/"
        },
        "outputId": "3dd1576b-0dc1-4117-f45e-1fb3c7af3b16"
      },
      "outputs": [
        {
          "output_type": "stream",
          "name": "stdout",
          "text": [
            "10 3.14 Hello\n"
          ]
        }
      ],
      "source": [
        "# Task 1: Assigning values to variables\n",
        "integer_var = 10 # integer is used for whole numbers\n",
        "float_var = 3.14 # float is also used for numbers but with decimals\n",
        "string_var = \"Hello\" # and string is used for written words or sentences\n",
        "print(integer_var, float_var, string_var)\n",
        "# I assigned an printed all three types on one line"
      ]
    },
    {
      "cell_type": "code",
      "source": [
        "# Task 2: Data types, 2.1\n",
        "age = 25\n",
        "print(type(age)) # the 'type' will help us to know the data type of the value\n",
        "# I assigned an integer and used type()"
      ],
      "metadata": {
        "id": "_ZGrjHEw6R98",
        "colab": {
          "base_uri": "https://localhost:8080/"
        },
        "outputId": "b7165bb8-5694-44d3-a69f-8d33cc5fab84"
      },
      "execution_count": null,
      "outputs": [
        {
          "output_type": "stream",
          "name": "stdout",
          "text": [
            "<class 'int'>\n"
          ]
        }
      ]
    },
    {
      "cell_type": "code",
      "source": [
        "# 2.2\n",
        "age = float(age) # then puting float and asking for the type we will change\n",
        "print(type(age))\n",
        "# I converted from int to float"
      ],
      "metadata": {
        "id": "-p3q6UCd6mmZ",
        "colab": {
          "base_uri": "https://localhost:8080/"
        },
        "outputId": "20ae9bb4-9b51-44bb-da3b-0781894bfaf4"
      },
      "execution_count": null,
      "outputs": [
        {
          "output_type": "stream",
          "name": "stdout",
          "text": [
            "<class 'float'>\n"
          ]
        }
      ]
    },
    {
      "cell_type": "code",
      "source": [
        "# 2.3\n",
        "is_student = True # This is a boolean, which means it can be true or false, and they are useful for making decisions\n",
        "print(type(is_student)) # we use type again to know the datatype\n",
        "# I assigned a Boolean and used type()"
      ],
      "metadata": {
        "id": "t-4jvbd36xAZ",
        "colab": {
          "base_uri": "https://localhost:8080/"
        },
        "outputId": "ca3975dd-4ccd-444b-f33d-41c08f8aef55"
      },
      "execution_count": null,
      "outputs": [
        {
          "output_type": "stream",
          "name": "stdout",
          "text": [
            "<class 'bool'>\n"
          ]
        }
      ]
    },
    {
      "cell_type": "code",
      "source": [
        "# Task 3: Basic input and output 3.1\n",
        "name = input(\"Enter your name: \") # the purpose of the input is letting the user to type something into the program\n",
        "print(f\"Hello, {name}!\") # whereas the purpose of print(), is to display information on the screen\n",
        "# Input and f-strings used correctly"
      ],
      "metadata": {
        "id": "nxRMdQHc65cl",
        "colab": {
          "base_uri": "https://localhost:8080/"
        },
        "outputId": "5c4e4e00-902e-4263-a63f-97bfc3882d48"
      },
      "execution_count": null,
      "outputs": [
        {
          "output_type": "stream",
          "name": "stdout",
          "text": [
            "Enter your name: Sara\n",
            "Hello, Sara!\n"
          ]
        }
      ]
    },
    {
      "cell_type": "code",
      "source": [
        "# 3.2\n",
        "age = int(input(\"Enter your age:\")) # if statement is to check conditions repeatedly\n",
        "if age >= 18:\n",
        "  print(\"You are elegible to vote\")\n",
        "else: # then the 'else' block will run only if the 'if' condition is false\n",
        "    print(\"You are not elegible to vote\")\n",
        "# I handled input, casting and a conditional smoothly"
      ],
      "metadata": {
        "colab": {
          "base_uri": "https://localhost:8080/"
        },
        "id": "y5d3y1ux65qf",
        "outputId": "e744a77c-19e4-4a64-ba9b-02448bfe8897"
      },
      "execution_count": null,
      "outputs": [
        {
          "output_type": "stream",
          "name": "stdout",
          "text": [
            "Enter your age:19\n",
            "You are elegible to vote\n"
          ]
        }
      ]
    },
    {
      "cell_type": "code",
      "source": [
        "# Task 4: Converting data types 4.1\n",
        "num = input(\"Enter a number:\")\n",
        "num = float(num) # we can add any number with decimals\n",
        "print(f\"The square of the number is: {num ** 2}\") # to do the square of a number, we add ** to the number and then for the number we want the square, (2)\n",
        "# Input conversion and basic maths are used"
      ],
      "metadata": {
        "id": "2yigm_q69Ul3",
        "colab": {
          "base_uri": "https://localhost:8080/"
        },
        "outputId": "de397797-c95e-413d-bfed-b221f0f6c209"
      },
      "execution_count": null,
      "outputs": [
        {
          "output_type": "stream",
          "name": "stdout",
          "text": [
            "Enter a number:3\n",
            "The square of the number is: 9.0\n"
          ]
        }
      ]
    },
    {
      "cell_type": "code",
      "source": [
        "# 4.2\n",
        "str_float = \"3.14\"\n",
        "float_num = float(str_float)\n",
        "print(f\"Result after multiplying by 2: {float_num * 2}\") # then to multiply is adding only one *\n",
        "# Worked on converting strings to float and applying arithmetic"
      ],
      "metadata": {
        "id": "coK3x2k69U19",
        "colab": {
          "base_uri": "https://localhost:8080/"
        },
        "outputId": "83dfcc6b-451d-4b0e-ef13-d8cc01e2c32f"
      },
      "execution_count": null,
      "outputs": [
        {
          "output_type": "stream",
          "name": "stdout",
          "text": [
            "Result after multiplying by 2: 6.28\n"
          ]
        }
      ]
    },
    {
      "cell_type": "code",
      "source": [
        "# Task 5: Aritmetic Operators\n",
        "print(45+67)\n",
        "print(156-82)\n",
        "print(12*7)\n",
        "print(100/4)\n",
        "print(84-5)\n",
        "print(3**4)\n",
        "# All operations calculated and printed\n",
        "# in this case, we operated some calculations with random numbers, using divide, multiply, plus, minus or even using the powers"
      ],
      "metadata": {
        "id": "qjkmBXUv-SPx",
        "colab": {
          "base_uri": "https://localhost:8080/"
        },
        "outputId": "614f855e-acd9-44c5-e77f-a441f8a92331"
      },
      "execution_count": null,
      "outputs": [
        {
          "output_type": "stream",
          "name": "stdout",
          "text": [
            "112\n",
            "74\n",
            "84\n",
            "25.0\n",
            "79\n",
            "81\n"
          ]
        }
      ]
    },
    {
      "cell_type": "code",
      "source": [
        "#Task 6: Comparison Operators\n",
        "a = 10\n",
        "b = 20\n",
        "print(a==b) # if they are same number\n",
        "print(a!=b) # if a+a= to b\n",
        "print(a<b) # a is lower than b\n",
        "print(a>b) # a is greater than b\n",
        "print(a<=b) # a is lower or equal to b\n",
        "print(a>=b) # a is greater or equal to b\n",
        "# I tested all the six comparison operators"
      ],
      "metadata": {
        "id": "bGZZbx9a9V5T",
        "colab": {
          "base_uri": "https://localhost:8080/"
        },
        "outputId": "5351407f-13ba-451a-c6dd-877d126c7dbc"
      },
      "execution_count": null,
      "outputs": [
        {
          "output_type": "stream",
          "name": "stdout",
          "text": [
            "False\n",
            "True\n",
            "True\n",
            "False\n",
            "True\n",
            "False\n"
          ]
        }
      ]
    },
    {
      "cell_type": "code",
      "source": [
        "# 6.2\n",
        "num1 = int(input(\"Enter the first number:\"))\n",
        "num2 = int(input(\"Enter the second number:\"))\n",
        "if num1 > num2:\n",
        "  print(f\"{num1} is greater than {num2}\")\n",
        "else:\n",
        "  print(f\"{num2} is greater than {num1}\")\n",
        "# Handled to comparison of user input values."
      ],
      "metadata": {
        "id": "RQto3ZatEqUU",
        "colab": {
          "base_uri": "https://localhost:8080/"
        },
        "outputId": "2d4ab68d-d33b-4367-97a9-23ec616fd720"
      },
      "execution_count": null,
      "outputs": [
        {
          "output_type": "stream",
          "name": "stdout",
          "text": [
            "Enter the first number:5\n",
            "Enter the second number:6\n",
            "6 is greater than 5\n"
          ]
        }
      ]
    },
    {
      "cell_type": "code",
      "source": [
        "# Task 7: Logical Operators\n",
        "# 7.1\n",
        "number = int(input(\"Enter a number:\"))\n",
        "if number > 10 and number < 20:\n",
        "  print(\"The number is between the number 10 and 20.\")\n",
        "else:\n",
        "  print(\"The number is not between the number 10 and 20.\")\n",
        "# Used the \"and\" operator\n",
        "# when we use \"and\", it means we add another condition to our statement"
      ],
      "metadata": {
        "id": "X-ZQFn4OEqjc",
        "colab": {
          "base_uri": "https://localhost:8080/"
        },
        "outputId": "faf8236f-9c41-4ac3-bf65-f13c3146d444"
      },
      "execution_count": null,
      "outputs": [
        {
          "output_type": "stream",
          "name": "stdout",
          "text": [
            "Enter a number:10\n",
            "The number is not between the number 10 and 20.\n"
          ]
        }
      ]
    },
    {
      "cell_type": "code",
      "source": [
        "# 7.2\n",
        "number = int(input(\"Enter another number:\"))\n",
        "if number > 5 or number > 50:\n",
        "  print(\"The number is greater than 5 or lower than 50.\")\n",
        "else:\n",
        "  print(\"The number is 5 or less\")\n",
        "# Good use of \"or\" because the a random number only state one of them"
      ],
      "metadata": {
        "id": "p4aX1wq5Erg4",
        "colab": {
          "base_uri": "https://localhost:8080/"
        },
        "outputId": "14482c05-97e9-4d95-caee-28167cc5cd85"
      },
      "execution_count": null,
      "outputs": [
        {
          "output_type": "stream",
          "name": "stdout",
          "text": [
            "Enter another number:83\n",
            "The number is greater than 5 or lower than 50.\n"
          ]
        }
      ]
    },
    {
      "cell_type": "code",
      "source": [
        "# Task 8: Conditional statements, 8.1\n",
        "age = int(input(\"Enter your age:\"))\n",
        "if age >= 18:\n",
        "  print(\"You are an adult.\")\n",
        "else:\n",
        "  print(\"You are a minor.\")\n",
        "# If/else logic correctly used"
      ],
      "metadata": {
        "id": "3c1ox15wErrs",
        "colab": {
          "base_uri": "https://localhost:8080/"
        },
        "outputId": "f5bc66f2-f09b-42a1-c8ce-2d3d27702045"
      },
      "execution_count": null,
      "outputs": [
        {
          "output_type": "stream",
          "name": "stdout",
          "text": [
            "Enter your age:18\n",
            "You are an adult.\n"
          ]
        }
      ]
    },
    {
      "cell_type": "code",
      "source": [
        "# 8.2 FizzBuzz\n",
        "num = int(input(\"Enter a number:\"))\n",
        "if num % 3 == 0 and num % 5 == 0: # we will print FizzBuzz if the number written is divisable by both 3 and 5\n",
        "  print(\"FizzBuzz\")\n",
        "elif num % 3 == 0: # we will print Fizz if the number is divisible by 3\n",
        "  print(\"Fizz\")\n",
        "elif num % 5 == 0: # we will print Buzz if the number is divisable by 5\n",
        "  print(\"Buzz\")\n",
        "else: print(num)\n",
        "# I nailed FizzBuzz, classic operator"
      ],
      "metadata": {
        "colab": {
          "base_uri": "https://localhost:8080/"
        },
        "id": "pUtewrNaJKpF",
        "outputId": "11c3cb9f-251d-4344-fa65-cb5c4506b58c"
      },
      "execution_count": null,
      "outputs": [
        {
          "output_type": "stream",
          "name": "stdout",
          "text": [
            "Enter a number:35\n",
            "Buzz\n"
          ]
        }
      ]
    },
    {
      "cell_type": "code",
      "source": [
        "# Task 9: Loops, 9.1\n",
        "for i in range(1,11):\n",
        "  print(i) # when printing 'i', they will appear all numbers from 1 to 11\n",
        "  # I looped the \"range()\""
      ],
      "metadata": {
        "id": "I46_p6ICJK0f",
        "colab": {
          "base_uri": "https://localhost:8080/"
        },
        "outputId": "e8e68e5d-5f7c-4281-900e-87b6788150b0"
      },
      "execution_count": null,
      "outputs": [
        {
          "output_type": "stream",
          "name": "stdout",
          "text": [
            "1\n",
            "2\n",
            "3\n",
            "4\n",
            "5\n",
            "6\n",
            "7\n",
            "8\n",
            "9\n",
            "10\n"
          ]
        }
      ]
    },
    {
      "cell_type": "code",
      "source": [
        "# 9.2\n",
        "i = 2\n",
        "while i <= 10:\n",
        "  print(i)\n",
        "  i += 2 # with this operation they will appear all numbers that from 10 that can be divided by 2\n",
        "# used the loop \"while\" and incremented correctly"
      ],
      "metadata": {
        "id": "uwtPYPq7KBz4",
        "colab": {
          "base_uri": "https://localhost:8080/"
        },
        "outputId": "cd67884a-4f6f-46a2-ddbf-d23253ea0739"
      },
      "execution_count": null,
      "outputs": [
        {
          "output_type": "stream",
          "name": "stdout",
          "text": [
            "2\n",
            "4\n",
            "6\n",
            "8\n",
            "10\n"
          ]
        }
      ]
    },
    {
      "cell_type": "code",
      "source": [
        "# 9.3\n",
        "n = int(input(\"Enter a number:\"))\n",
        "for i in range(1, n + 1): # this range generates numbers starting at 1 and ending at n\n",
        "  if i % 4 == 0: # in this operation they will appear all numbers that can be divisible by 4 from the range of 1 and the number you've put\n",
        "    print(i)\n",
        "# Combined input, a loop and a condition"
      ],
      "metadata": {
        "id": "dvTlscPwKCDw",
        "colab": {
          "base_uri": "https://localhost:8080/"
        },
        "outputId": "68959527-fe30-4ac9-cb33-58d5eeae4ca0"
      },
      "execution_count": null,
      "outputs": [
        {
          "output_type": "stream",
          "name": "stdout",
          "text": [
            "Enter a number:27\n",
            "4\n",
            "8\n",
            "12\n",
            "16\n",
            "20\n",
            "24\n"
          ]
        }
      ]
    }
  ]
}