{
  "nbformat": 4,
  "nbformat_minor": 0,
  "metadata": {
    "colab": {
      "provenance": []
    },
    "kernelspec": {
      "name": "python3",
      "display_name": "Python 3"
    },
    "language_info": {
      "name": "python"
    }
  },
  "cells": [
    {
      "cell_type": "code",
      "execution_count": null,
      "metadata": {
        "colab": {
          "base_uri": "https://localhost:8080/"
        },
        "id": "TgEcgJfs4h0a",
        "outputId": "9ed9e244-a628-4a30-ee07-e2270ddeeeed"
      },
      "outputs": [
        {
          "output_type": "stream",
          "name": "stdout",
          "text": [
            "Pintxo de tortilla (Entrance - $2.00)\n",
            "Gazpacho (Entrance - $4.00)\n",
            "Tapas de queso (Entrance - $3.00)\n",
            "Paella Valenciana (Main Course - $15.00)\n",
            "Zamburiñas (Main Course - $18.00)\n",
            "Bacalao al pil-pil (Main Course - $16.00)\n",
            "Tarta de queso (Dessert - $5.00)\n",
            "Tiramisú (Dessert - $6.00)\n",
            "Flan Casero (Dessert - $4.00)\n",
            "Coca-cola (Drink - $2.00)\n",
            "Fanta (Drink - $2.00)\n"
          ]
        }
      ],
      "source": [
        "# Step 1: start Dish class. A class is a blueprint for creating objets that share the same structure or behavior\n",
        "# so it defines what is a dish and what it can do\n",
        "\n",
        "class Dish:\n",
        "  # to start, __init__ is the constructor, it runs when we create a new dish\n",
        "  def __init__(self, name, price, category):\n",
        "    #Assign name, price, and category to the dish to store values for each specific dish\n",
        "    self.name = name\n",
        "    self.price = price\n",
        "    self.category = category\n",
        "\n",
        "  def __str__(self):\n",
        "    # return a formatted string representation of the dish\n",
        "    return f\"{self.name} ({self.category} - ${self.price:.2f})\"\n",
        "# as we know, the return ends our function and clasifies all our dishes in this formula, like a bill\n",
        "# we are now going to run some dishes\n",
        "# we run our dishes\n",
        "dish1 = Dish(\"Pintxo de tortilla\", 2.00, \"Entrance\")\n",
        "dish2 = Dish(\"Gazpacho\", 4.00, \"Entrance\")\n",
        "dish3 = Dish(\"Tapas de queso\", 3.00, \"Entrance\")\n",
        "dish4 = Dish(\"Paella Valenciana\", 15.00, \"Main Course\")\n",
        "dish5 = Dish(\"Zamburiñas\", 18.00, \"Main Course\")\n",
        "dish6 = Dish(\"Bacalao al pil-pil\", 16.00, \"Main Course\")\n",
        "dish7 = Dish(\"Tarta de queso\", 5.00, \"Dessert\")\n",
        "dish8 = Dish(\"Tiramisú\", 6.00, \"Dessert\")\n",
        "dish9 = Dish(\"Flan Casero\", 4.00, \"Dessert\")\n",
        "dish10 = Dish(\"Coca-cola\", 2.00, \"Drink\")\n",
        "dish11 = Dish(\"Fanta\", 2.00, \"Drink\")\n",
        "\n",
        "print(dish1)\n",
        "print(dish2)\n",
        "print(dish3)\n",
        "print(dish4)\n",
        "print(dish5)\n",
        "print(dish6)\n",
        "print(dish7)\n",
        "print(dish8)\n",
        "print(dish9)\n",
        "print(dish10)\n",
        "print(dish11)"
      ]
    },
    {
      "cell_type": "code",
      "source": [
        "# Order class\n",
        "# explain aim of class Order\n",
        "class order:\n",
        "  def __init__(self, order_id, costumer):\n",
        "    self.order_id = order_id\n",
        "    self.costumer = costumer\n",
        "    self.dishes = [] # self. means a intance variable is being initialized as an empty list of the object.\n",
        "    self.ordered_dishes = [] # same for this\n",
        "    self.status = \"pending\" # in this case it states the status of the order, which is pending\n",
        "\n",
        "  # first we add to the end of the list the ordered dish\n",
        "  def add_dish(self, dish):\n",
        "    self.ordered_dishes.append(dish)\n",
        "\n",
        "  def calculate_total(self):\n",
        "    return sum(dish.price for dish in self.ordered_dishes)\n",
        "\n",
        "  def view_order(self):\n",
        "    print(f\"Order ID: {self.order_id}\")\n",
        "    print(f\"Costumer: {self.costumer}\")\n",
        "    print(\"Ordered Dishes:\")\n",
        "    for dish in self.ordered_dishes:\n",
        "      print(f\"- {dish}\")\n",
        "      print(f\"Total: ${self.calculate_total():.2f}\")\n",
        "      print(f\"Status: {self.status}\")\n"
      ],
      "metadata": {
        "id": "VqILicUa8t1f"
      },
      "execution_count": null,
      "outputs": []
    },
    {
      "cell_type": "code",
      "source": [
        "# Costumer class\n",
        "# now we are going to represent a costumer who places orders\n",
        "class Costumer:\n",
        "  def __init__(self,name, email):\n",
        "    self.name = name\n",
        "    self.email = email\n",
        "    self.order_history = []\n",
        "\n",
        "  def place_order(self, restaurant, dishes):\n",
        "    order_id = len(restaurant.orders) + 1 # Unique id based on number of orders\n",
        "    new_order = order(order_id, self)\n",
        "\n",
        "    for dish in dishes:\n",
        "      new_order.add_dish(dish)\n",
        "\n",
        "    self.order_history.append(new_order)\n",
        "    restaurant.place_order(new_order)\n",
        "\n",
        "    return new_order"
      ],
      "metadata": {
        "id": "0UWdQZUs_4_r"
      },
      "execution_count": null,
      "outputs": []
    },
    {
      "cell_type": "code",
      "source": [
        "# Restaurant Class\n",
        "# the porpuse of defining the restaurant's class is that it manages the menu, orders, and costumer interactions\n",
        "class Restaurant:\n",
        "  def __init__(self):\n",
        "    self.menu = []\n",
        "    self.orders = []\n",
        "\n",
        "  def add_dish_to_menu(self, dish):\n",
        "    self.menu.append(dish)\n",
        "\n",
        "  def place_order(self, order):\n",
        "    self.orders.append(order)\n",
        "\n",
        "  def view_menu(self):\n",
        "    print(\"Restaurant Menu:\")\n",
        "    for dish in self.menu:\n",
        "      print(f\"- {dish}\")\n",
        "    print()\n",
        "\n",
        "  def view_orders(self):\n",
        "    print(\"Restaurant Orders:\")\n",
        "    for order in self.orders:\n",
        "      order.view_order()\n",
        "    print()\n"
      ],
      "metadata": {
        "id": "E6BZ0bbjB3UT"
      },
      "execution_count": null,
      "outputs": []
    },
    {
      "cell_type": "code",
      "source": [
        "# Now we test the system\n",
        "# Create restaurant and menu\n",
        "restaurant = Restaurant() # Changed 'rentaurant()' to 'Restaurant()' to match the class name\n",
        "#We add dishes to our menu\n",
        "restaurant.add_dish_to_menu(dish1)\n",
        "restaurant.add_dish_to_menu(dish2)\n",
        "restaurant.add_dish_to_menu(dish3)\n",
        "restaurant.add_dish_to_menu(dish4)\n",
        "restaurant.add_dish_to_menu(dish5)\n",
        "restaurant.add_dish_to_menu(dish6)\n",
        "restaurant.add_dish_to_menu(dish7)\n",
        "restaurant.add_dish_to_menu(dish8)\n",
        "restaurant.add_dish_to_menu(dish9)\n",
        "restaurant.add_dish_to_menu(dish10)\n",
        "restaurant.add_dish_to_menu(dish11)\n",
        "\n",
        "#View menu\n",
        "restaurant.view_menu()\n",
        "# Create a costumer\n",
        "costumer = Costumer(\"John Doe\", \"john.doe@example.com\")\n",
        "\n",
        "# Costumer places an order\n",
        "ordered_dishes = [dish1, dish4, dish8]\n",
        "order = costumer.place_order(restaurant, ordered_dishes)\n",
        "\n",
        "# we view the costumer's order\n",
        "order.view_order()\n",
        "\n",
        "# and then we view all orders in the restaurant\n",
        "restaurant.view_orders()\n",
        "\n",
        "\n"
      ],
      "metadata": {
        "colab": {
          "base_uri": "https://localhost:8080/"
        },
        "id": "7EaUsqbvGDz2",
        "outputId": "7b9a09a9-870f-43b3-e4c4-9ceee53090b4"
      },
      "execution_count": null,
      "outputs": [
        {
          "output_type": "stream",
          "name": "stdout",
          "text": [
            "Restaurant Menu:\n",
            "- Pintxo de tortilla (Entrance - $2.00)\n",
            "- Gazpacho (Entrance - $4.00)\n",
            "- Tapas de queso (Entrance - $3.00)\n",
            "- Paella Valenciana (Main Course - $15.00)\n",
            "- Zamburiñas (Main Course - $18.00)\n",
            "- Bacalao al pil-pil (Main Course - $16.00)\n",
            "- Tarta de queso (Dessert - $5.00)\n",
            "- Tiramisú (Dessert - $6.00)\n",
            "- Flan Casero (Dessert - $4.00)\n",
            "- Coca-cola (Drink - $2.00)\n",
            "- Fanta (Drink - $2.00)\n",
            "\n",
            "Order ID: 1\n",
            "Costumer: <__main__.Costumer object at 0x7e53d8bf8bd0>\n",
            "Ordered Dishes:\n",
            "- Pintxo de tortilla (Entrance - $2.00)\n",
            "Total: $23.00\n",
            "Status: pending\n",
            "- Paella Valenciana (Main Course - $15.00)\n",
            "Total: $23.00\n",
            "Status: pending\n",
            "- Tiramisú (Dessert - $6.00)\n",
            "Total: $23.00\n",
            "Status: pending\n",
            "Restaurant Orders:\n",
            "Order ID: 1\n",
            "Costumer: <__main__.Costumer object at 0x7e53d8bf8bd0>\n",
            "Ordered Dishes:\n",
            "- Pintxo de tortilla (Entrance - $2.00)\n",
            "Total: $23.00\n",
            "Status: pending\n",
            "- Paella Valenciana (Main Course - $15.00)\n",
            "Total: $23.00\n",
            "Status: pending\n",
            "- Tiramisú (Dessert - $6.00)\n",
            "Total: $23.00\n",
            "Status: pending\n",
            "\n"
          ]
        }
      ]
    },
    {
      "cell_type": "markdown",
      "source": [],
      "metadata": {
        "id": "0rVvNVnspncS"
      }
    },
    {
      "cell_type": "code",
      "source": [],
      "metadata": {
        "id": "qJDVJESUIYqn"
      },
      "execution_count": null,
      "outputs": []
    }
  ]
}