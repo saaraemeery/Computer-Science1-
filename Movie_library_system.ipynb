{
  "nbformat": 4,
  "nbformat_minor": 0,
  "metadata": {
    "colab": {
      "provenance": []
    },
    "kernelspec": {
      "name": "python3",
      "display_name": "Python 3"
    },
    "language_info": {
      "name": "python"
    }
  },
  "cells": [
    {
      "cell_type": "code",
      "execution_count": null,
      "metadata": {
        "id": "r9VDKkl5N5Fb",
        "colab": {
          "base_uri": "https://localhost:8080/"
        },
        "outputId": "c583a11d-1540-4805-9cd6-cee47ad8e2b2"
      },
      "outputs": [
        {
          "output_type": "stream",
          "name": "stdout",
          "text": [
            "[]\n"
          ]
        }
      ],
      "source": [
        "#Step1: Start an empty list to save movies\n",
        "movie_library = []\n",
        "print(movie_library)"
      ]
    },
    {
      "cell_type": "code",
      "source": [
        "# Step2: Our goal is now to add movies to the library in the form of a dictionary using .append\n",
        "movie_library.append({\n",
        "    \"title\": \"Ocho apellidos vascos\",\n",
        "    \"year\": \"2014\",\n",
        "    \"genres\": \"Comedy\",\n",
        "    \"ratings\": (8.1, 3490), # rating score and number of reviews\n",
        "    \"reviews\": {'Jhon': \"Great movie!\"}\n",
        "})\n",
        "\n",
        "movie_library.append({\n",
        "    \"title\": \"Home alone\",\n",
        "    \"year\": 1999,\n",
        "    \"genre\": [\"Comedy\", \"Family\"],\n",
        "    \"ratings\": (7.6, 4500),\n",
        "    \"reviews\": {'Mary': \"Will watch again\"}\n",
        "})\n",
        "\n",
        "movie_library.append({\n",
        "    \"title\": \"The Godfather\",\n",
        "    \"year\": 1972,\n",
        "    \"genre\": [\"Crime\", \"Drama\"],\n",
        "    \"ratings\": (9.2, 16000),\n",
        "    \"reviews\": {'Peter': \"It could be better\"}\n",
        "})\n",
        "\n",
        "movie_library"
      ],
      "metadata": {
        "id": "JKbfff62gvlT",
        "colab": {
          "base_uri": "https://localhost:8080/"
        },
        "outputId": "8b988b3b-c679-4c0a-b813-d38c6b4e7a27"
      },
      "execution_count": null,
      "outputs": [
        {
          "output_type": "execute_result",
          "data": {
            "text/plain": [
              "[{'title': 'Ocho apellidos vascos',\n",
              "  'year': '2014',\n",
              "  'genres': 'Comedy',\n",
              "  'ratings': (8.1, 3490),\n",
              "  'reviews': {'Jhon': 'Great movie!'}},\n",
              " {'title': 'Home alone',\n",
              "  'year': 1999,\n",
              "  'genre': ['Comedy', 'Family'],\n",
              "  'ratings': (7.6, 4500),\n",
              "  'reviews': {'Mary': 'Will watch again'}},\n",
              " {'title': 'The Godfather',\n",
              "  'year': 1972,\n",
              "  'genre': ['Crime', 'Drama'],\n",
              "  'ratings': (9.2, 16000),\n",
              "  'reviews': {'Peter': 'It could be better'}}]"
            ]
          },
          "metadata": {},
          "execution_count": 23
        }
      ]
    },
    {
      "cell_type": "code",
      "source": [
        "# Step 3: We add all movies to the library\n",
        "# view all movies in the library\n",
        "# explain logic of for loop specific to movie library\n",
        "\n",
        "for movie in movie_library: # loop through each item in the list called movie_library and temporarily call each item movie during that loop cycle\n",
        "  title = movie[\"title\"]\n",
        "  year = movie[\"year\"]\n",
        "  # Accessed the correct key for genre based on whether it's \"genre\" or \"genres\"\n",
        "  genre = movie.get(\"genre\", movie.get(\"genres\", \"Unknown Genre\"))\n",
        "  rating_score = movie[\"ratings\"] [0]\n",
        "  #sometimes a movie might have multiple ratings, and this code([0]) is just showing the first one for simplicity\n",
        "  n_reviews = len(movie[\"reviews\"]) #assign lenght of variable to n_reviews\n",
        "\n",
        "  print(f\"Title: {title}, Year: {year}, Genre: {genre}, Rating: {rating_score}, Number of reviews: {n_reviews}\")\n"
      ],
      "metadata": {
        "id": "XxLYCuP2hjXQ",
        "colab": {
          "base_uri": "https://localhost:8080/"
        },
        "outputId": "faafad99-0b21-4ad1-8605-eee37737d71d"
      },
      "execution_count": null,
      "outputs": [
        {
          "output_type": "stream",
          "name": "stdout",
          "text": [
            "Title: Ocho apellidos vascos, Year: 2014, Genre: Comedy, Rating: 8.1, Number of reviews: 1\n",
            "Title: Home alone, Year: 1999, Genre: ['Comedy', 'Family'], Rating: 7.6, Number of reviews: 1\n",
            "Title: The Godfather, Year: 1972, Genre: ['Crime', 'Drama'], Rating: 9.2, Number of reviews: 1\n"
          ]
        }
      ]
    },
    {
      "cell_type": "code",
      "source": [
        "# Step4: With this done, lets continue letting the user search for movies by their genre\n",
        "user_movie = str(input(\"Enter the genre: \")) # now we use string to write the genre or genres\n",
        "# with this if we put one random genre, it will appear only the movies with that genre\n",
        "\n",
        "for movie in movie_library:\n",
        "  if user_movie in movie.get(\"genre\", movie.get(\"genres\")):\n",
        "    print(movie[\"title\"]) # Indented this line to be part of the 'if' block if\n",
        "  break\n",
        "\n",
        "else:\n",
        "  print(\"Not found\")\n"
      ],
      "metadata": {
        "id": "Snio7QgdjQWe"
      },
      "execution_count": null,
      "outputs": []
    },
    {
      "cell_type": "code",
      "source": [
        "# Step5: view details\n",
        "# now, we crate a method to view detailed information about a specific movie, including its reviews and average rating\n",
        "# and then to add to the library and print them\n",
        "\n",
        "movie_to_view = \"Home alone\"\n",
        "print(f\"Searching for: {movie_to_view}\")\n",
        "\n",
        "for movie in movie_library:\n",
        "  if movie[\"title\"] == movie_to_view:\n",
        "    # we print movie details\n",
        "    print(f\"Title: {movie[\"title\"]}\")\n",
        "    print(f\"Year: {movie[\"year\"]}\")\n",
        "    print(f\"Genre: {movie.get(\"genre\", movie.get(\"genres\", \"Unknown Genre\"))}\")\n",
        "    print(f\"Rating: {movie[\"ratings\"]}\")\n",
        "    print(f\"Reviews: {movie[\"reviews\"]}\")\n",
        "    break\n",
        "# After the loop we check if the movie was found\n",
        "    else:\n",
        "      print(\"Movie not found\")"
      ],
      "metadata": {
        "id": "OwCId7Y6l_Zh"
      },
      "execution_count": null,
      "outputs": []
    },
    {
      "cell_type": "code",
      "source": [
        "from types import new_class\n",
        "# Step6: Now we are going to add a review to a movie\n",
        "# we choose which movie we want to add\n",
        "# Variables initialization\n",
        "movie_to_review = \"Home alone\"\n",
        "reviewer_name = \"Sara\"\n",
        "review = \"I liked so much\"\n",
        "\n",
        "# We find the movie and add the review\n",
        "for movie in movie_library:\n",
        "  if movie[\"title\"] = movie_to_review:\n",
        "    movie[\"reviews\"][reviewer_name] = review\n",
        "\n",
        "    # we update the rating\n",
        "    old_rating, old_num_reviews = movie[\"ratings\"]\n",
        "    new_num_reviews = old_num_reviews + 1\n",
        "    new_rating = ((old_rating * old_num_reviews) + 5) / new_num_reviews\n",
        "    movie[\"ratings\"] = (new_rating, new_num_reviews)\n",
        "\n",
        "    # we print the movie name and reviewer\n",
        "    print(f\"Review added to {movie_to_review} by {reviewer_name}\")\n",
        "    print(f\"Updated movie: {movie}\")\n",
        "    break # we stop the loop once the movie is found and updated\n",
        "\n"
      ],
      "metadata": {
        "id": "qs-AL1oSm3vt"
      },
      "execution_count": null,
      "outputs": []
    },
    {
      "cell_type": "code",
      "source": [
        "# To finish, we calculate and display average ratings\n",
        "total_rating = 0\n",
        "total_reviews = 0\n",
        "\n",
        "for movie in movie_library:\n",
        "  rating, num_reviews = movie[\"rating\"]\n",
        "  total_rating += rating * num_reviews\n",
        "  total_reviews += num_reviews\n",
        "\n",
        "  if total_reviews == 0\n",
        "  print(\"No reviews are available\")\n",
        "  else:\n",
        "    print(total_rating / total_reviews)"
      ],
      "metadata": {
        "id": "tpHy_EqvqHs6"
      },
      "execution_count": null,
      "outputs": []
    }
  ]
}