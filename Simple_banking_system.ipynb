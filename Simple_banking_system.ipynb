{
  "nbformat": 4,
  "nbformat_minor": 0,
  "metadata": {
    "colab": {
      "provenance": []
    },
    "kernelspec": {
      "name": "python3",
      "display_name": "Python 3"
    },
    "language_info": {
      "name": "python"
    }
  },
  "cells": [
    {
      "cell_type": "code",
      "execution_count": null,
      "metadata": {
        "id": "aqPPVTv7IekH"
      },
      "outputs": [],
      "source": [
        "# simple banking system\n",
        "# In this program, we will be able to create a real bank and know how it works"
      ]
    },
    {
      "cell_type": "code",
      "source": [
        "# sample user credentials\n",
        "#Step 1: we will create bank account to let the user register and then store credentials somewhere\n",
        "USERNAME = \"user123\"\n",
        "PASSWORD = \"password123\""
      ],
      "metadata": {
        "id": "aKKSa_wgI16r"
      },
      "execution_count": null,
      "outputs": []
    },
    {
      "cell_type": "code",
      "source": [
        "#Step2: we add a balance, represents how much money does the user have in the bank account\n",
        "# initial balance\n",
        "balance = 1000.0\n",
        "# the amout of money currently held on the bank"
      ],
      "metadata": {
        "id": "RHtND1WcJFx5"
      },
      "execution_count": null,
      "outputs": []
    },
    {
      "cell_type": "code",
      "source": [
        "# Step3: Login function with 3 attempts\n",
        "# the user will have only 3 attempts to enter the correct username and password\n",
        "# if they fail 3 times, access will be denied\n",
        "def login():\n",
        "  attempts = 3 # as said our attempts number will be 3\n",
        "  while attempts > 0: # the goal of the while loop is to repeat a block of code as long as a condition is true\n",
        "    username = input(\"Enter username:\")\n",
        "    password = input(\"Enter password:\")\n",
        "    if username == USERNAME and password == PASSWORD: # Inside the while loop, we use loop if\n",
        "    # which states to make decisions on each iteration\n",
        "      print(\"Login successful!\")\n",
        "      return True # when the answer runs, the return statement; immediately ends the function where it appears\n",
        "      # sends a value back to wherever the function was called and stops all loops running inside that function\n",
        "    else: # the else loop explains, what happens doing the opposite\n",
        "      attempts -= 1\n",
        "      print(f\"Incorrect username or password. {attempts} attempts remaining.\\n\")\n",
        "      print(\"Too many failed attempts. Exiting program.\")\n",
        "      return False\n",
        "  # gives the user up to 3 attemps to enter the correct password\n"
      ],
      "metadata": {
        "id": "4P1KaLQUJNpP"
      },
      "execution_count": null,
      "outputs": []
    },
    {
      "cell_type": "code",
      "source": [
        "# Step4: We will create the main menu and operate some other options like checking the balance, deposit money, withdraw the money and the finally exit\n",
        "# banking operations\n",
        "def show_menu(): # this is the menu, where the user will have many options on what to do with the money\n",
        "  print(\"\\nMain Menu:\")\n",
        "  print(\"1. Check Balance\")\n",
        "  print(\"2. Deposit Money\")\n",
        "  print(\"3. Withdraw Money\")\n",
        "  print(\"4. Exit\")\n",
        "\n",
        "  def check_balance(): # here the user will be able to check how much money do they have on the bank account\n",
        "    print(f\"Your current balance is ${balance:.2f}\")\n",
        "\n",
        "  def deposit_money(): # otherwise, they will also have the opportunity to add the amount of money the want in the balance\n",
        "    global balance\n",
        "    try:\n",
        "      amount = float(input(\"Enter amount to deposit:\")) #to deposit the amount, it must be a positive amount\n",
        "      # and with the 'float' datatype, the user can deposit floating-point numbers, even with decimals\n",
        "      # whereas if we use 'int' these are only whole numbers\n",
        "      if amount > 0:\n",
        "        balance += amount\n",
        "        print(f\"${amount:.2f} deposited successfully.\")\n",
        "      else:\n",
        "        print(\"Amount must be positive.\")\n",
        "    except ValueError: # we use except to handle exceptions, occurs when a function or operation receives an argument of the correct type but inappropiate value\n",
        "      print(\"Invalid input. Please enter a valid number.\") # We put ValueError when the value is inappropiate or out of the range\n",
        "\n",
        "  def withdraw_money(): # the goal is to enter an amount to withdraw their balance\n",
        "    global balance # the term global is used to access or modify a variable in this case our balance\n",
        "    try: # the loop try is used to write a code that might cause an error\n",
        "      amount = float(input(\"Enter amount to withdraw.\"))\n",
        "      if amount <= 0:\n",
        "        print(\"Amount must be positive.\")\n",
        "      elif amount > balance: # the loop elif instead it lets check more than one condition in an if statement\n",
        "        print(\"Insufficient funds.\")\n",
        "      else:\n",
        "            balance -= amount\n",
        "            print(f\"${amount:.2f} withdrawn successfully.\")\n",
        "       except ValueError:\n",
        "        print(\"Invalid input. Please enter a valid number.\")\n",
        "# we will allow to the user to choose actions repeatedly using a menu inside a loop"
      ],
      "metadata": {
        "id": "Fe_wTlKBKbor"
      },
      "execution_count": null,
      "outputs": []
    },
    {
      "cell_type": "code",
      "source": [
        "# Main program logic\n",
        "# Step5: we will choose an option from the main program\n",
        "if login():\n",
        "  while True:\n",
        "    show_menu()\n",
        "    choice = input(\"Enter your choice (1-4):\")\n",
        "    if choice == '1':\n",
        "      check_balance()\n",
        "      elif choice == '2':\n",
        "        deposit_money()\n",
        "        elif choice == '3':\n",
        "          withdrawn_money()\n",
        "          elif choice =='4':\n",
        "            print(\"Exiting system. Goodbye!\")\n",
        "            break\n",
        "          else: print(\"Invalid choice. Please enter a number from 1 to 4.\")\n",
        "# the user will decide to exit the system"
      ],
      "metadata": {
        "id": "d0MYCZWPN6pm"
      },
      "execution_count": null,
      "outputs": []
    },
    {
      "cell_type": "code",
      "source": [
        "# Finally we run the program\n",
        "if login():\n",
        "  banking_menu()"
      ],
      "metadata": {
        "id": "a1eomN9F6sC4"
      },
      "execution_count": null,
      "outputs": []
    }
  ]
}