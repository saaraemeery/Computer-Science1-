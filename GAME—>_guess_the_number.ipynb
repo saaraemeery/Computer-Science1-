{
  "nbformat": 4,
  "nbformat_minor": 0,
  "metadata": {
    "colab": {
      "provenance": []
    },
    "kernelspec": {
      "name": "python3",
      "display_name": "Python 3"
    },
    "language_info": {
      "name": "python"
    }
  },
  "cells": [
    {
      "cell_type": "markdown",
      "source": [
        "This is the game called \"Number guessing name\":\n",
        "The rules are quite simples\n",
        "\n",
        "- The computer randomly selects a secret number within a predefined range from 1 to 100\n",
        "- The player tries to guess the number\n",
        "- After each guess the computer gives feedback; \"Too low\" if the guess is below the secret number and \"too high\" if the guess is above the secret number\n",
        "- If the guess matches correctly it will appear \"Correct\"\n",
        "- The player is allowed a limited number of guesses which is 5.\n",
        "\n",
        "\n",
        "The winning conditions are these:\n",
        "- The player wins if they guess the correct number within the allowed number of attempts.\n",
        "- Otherwise, the player loses if they use all attempts.\n",
        "\n"
      ],
      "metadata": {
        "id": "FO7VozkQMtxa"
      }
    },
    {
      "cell_type": "code",
      "execution_count": null,
      "metadata": {
        "colab": {
          "base_uri": "https://localhost:8080/"
        },
        "id": "w32ou_DuIzIl",
        "outputId": "ffdbbf89-d458-4790-ef7c-585ac357b090"
      },
      "outputs": [
        {
          "metadata": {
            "tags": null
          },
          "name": "stdout",
          "output_type": "stream",
          "text": [
            "Welcome to the game! I'm thinking of a number from 1 to 100. Can you guess it?\n"
          ]
        }
      ],
      "source": [
        "# For this final project, we will do a game about guessing the number from 1~100 having 5 attempts\n",
        "import random #we use random to generate a random number\n",
        "# The computer chooses a number between 1 to 100\n",
        "secret_number = random.randint(1, 100)\n",
        "# The sentence below will appear asking you to put any number from 1 to 100 and the game will start there\n",
        "print(\"Welcome to the game! I'm thinking of a number from 1 to 100. Can you guess it?\")\n",
        "\n",
        "# Now we will give the player 5 tries to guess the number\n",
        "# For that, we will create a range of 1 to 6 which in each guess it will be going down\n",
        "attempts = 5\n",
        "for attempt in range(1, 6):\n",
        "  guess = int(input(f\"Attempt {attempt}: Your guess is:\"))\n",
        "\n",
        "  if guess < secret_number: # here we say that if the secret number is greater than our guess it will say that our number is too low\n",
        "    print(\"Too low!\")\n",
        "\n",
        "  elif guess > secret_number: # whereas if the secret number is lower it will appear that our number is greater\n",
        "      print(\"Too high!\")\n",
        "# if its not no higher either greater, we have the correct number and it must say what is the number and in which attempt we have been able to guess it\n",
        "  else:\n",
        "        print(f\"Correct! The number was {secret_number}. You won in {attempt} tries!\")\n",
        "        break\n",
        "else:\n",
        "        print(f\"Sorry you are out of tries. The correct number was {secret_number}.\")\n",
        "        #when we reach our tries, the game automatically will say the secret number and also that we lose"
      ]
    }
  ]
}